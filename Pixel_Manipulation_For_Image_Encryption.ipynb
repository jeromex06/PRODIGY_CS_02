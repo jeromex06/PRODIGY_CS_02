{
  "nbformat": 4,
  "nbformat_minor": 0,
  "metadata": {
    "colab": {
      "provenance": []
    },
    "kernelspec": {
      "name": "python3",
      "display_name": "Python 3"
    },
    "language_info": {
      "name": "python"
    }
  },
  "cells": [
    {
      "cell_type": "code",
      "execution_count": 1,
      "metadata": {
        "id": "AuCT9OT8JWS2",
        "colab": {
          "base_uri": "https://localhost:8080/"
        },
        "outputId": "83d5ffc2-7324-467f-fb1a-da280b41b3b8"
      },
      "outputs": [
        {
          "output_type": "stream",
          "name": "stdout",
          "text": [
            "Requirement already satisfied: pillow in /usr/local/lib/python3.10/dist-packages (9.4.0)\n"
          ]
        }
      ],
      "source": [
        "pip install pillow"
      ]
    },
    {
      "cell_type": "code",
      "source": [
        "from PIL import Image\n",
        "import numpy as np\n",
        "\n",
        "def create_sample_image(path):\n",
        "    width, height = 100, 100\n",
        "    image_array = np.zeros((height, width, 3), dtype=np.uint8)\n",
        "    colors = [(255, 0, 0), (0, 255, 0), (0, 0, 255), (255, 255, 0), (255, 0, 255), (0, 255, 255)]\n",
        "    stripe_height = height // len(colors)\n",
        "    for i, color in enumerate(colors):\n",
        "        image_array[i*stripe_height:(i+1)*stripe_height, :] = color\n",
        "    sample_image = Image.fromarray(image_array)\n",
        "    sample_image.save(path)\n",
        "    print(f\"Sample image created and saved to {path}\")\n",
        "\n",
        "def encrypt_image(image_path, output_path, key):\n",
        "    image = Image.open(image_path)\n",
        "    image_array = np.array(image)\n",
        "    encrypted_array = (image_array + key) % 256\n",
        "    encrypted_image = Image.fromarray(encrypted_array.astype('uint8'))\n",
        "    encrypted_image.save(output_path)\n",
        "    print(f\"Image encrypted and saved to {output_path}\")\n",
        "\n",
        "def decrypt_image(encrypted_path, output_path, key):\n",
        "    encrypted_image = Image.open(encrypted_path)\n",
        "    encrypted_array = np.array(encrypted_image)\n",
        "    decrypted_array = (encrypted_array - key) % 256\n",
        "    decrypted_image = Image.fromarray(decrypted_array.astype('uint8'))\n",
        "    decrypted_image.save(output_path)\n",
        "    print(f\"Image decrypted and saved to {output_path}\")\n",
        "\n",
        "sample_image_path = \"sample_image.jpg\"\n",
        "encrypted_image_path = \"encrypted_image.png\"\n",
        "decrypted_image_path = \"decrypted_image.png\"\n",
        "encryption_key = 123  # Encryption key\n",
        "create_sample_image(sample_image_path)\n",
        "encrypt_image(sample_image_path, encrypted_image_path, encryption_key)\n",
        "decrypt_image(encrypted_image_path, decrypted_image_path, encryption_key)\n"
      ],
      "metadata": {
        "colab": {
          "base_uri": "https://localhost:8080/"
        },
        "id": "7NPQ8QhWYKhO",
        "outputId": "2ce91d63-30ea-430c-8f68-9d19afe3500f"
      },
      "execution_count": 3,
      "outputs": [
        {
          "output_type": "stream",
          "name": "stdout",
          "text": [
            "Sample image created and saved to sample_image.jpg\n",
            "Image encrypted and saved to encrypted_image.png\n",
            "Image decrypted and saved to decrypted_image.png\n"
          ]
        }
      ]
    }
  ]
}